{
 "cells": [
  {
   "cell_type": "markdown",
   "id": "8e2d8db0",
   "metadata": {},
   "source": [
    "# Tienda online\n",
    "Junto con el departamento de marketing se ha recopilado una lista de hipótesis que pueden ayudar a aumentar los ingresos.\n",
    "\n",
    "Objetivo: Priorizar estas hipótesis, lanzar un test A/B y analizar los resultados.\n",
    "\n",
    "Descripción de los datos\n",
    "\n",
    "DATOS UTILIZADOS EN LA PRIMERA ARTE DEL PROYECTO:\n",
    "\n",
    "/datasets/hypotheses_us.csv\n",
    "\n",
    "Hypotheses: breves descripciones de las hipótesis.\n",
    "Reach: alcance del usuario, en una escala del uno a diez.\n",
    "Impact: impacto en los usuarios, en una escala del uno al diez.\n",
    "Confidence: confianza en la hipótesis, en una escala del uno al diez.\n",
    "Effort: los recursos necesarios para probar una hipótesis, en una escala del uno al diez. Cuanto mayor sea el valor Effort, más recursos requiere la prueba.\n",
    "DATOS UTILIZADOS EN LA SEGUNDA ARTE DEL PROYECTO:\n",
    "\n",
    "/datasets/orders_us.csv\n",
    "\n",
    "transactionId: identificador de pedido.\n",
    "visitorId: identificador del usuario que realizó el pedido.\n",
    "date: fecha del pedido.\n",
    "revenue: ingresos del pedido.\n",
    "group: el grupo del test A/B al que pertenece el usuario.\n",
    "/datasets/visits_us.csv\n",
    "\n",
    "date: la fecha.\n",
    "group: grupo de la prueba A/B.\n",
    "visits: el número de visitas en la fecha especificada en el grupo de pruebas A/B especificado.\n",
    "El proyecto se divide en 2 partes:\n",
    "\n",
    "Parte 1. Preprocesamiento de datos\n",
    "Parte 2. Priorizar hipótesis\n",
    "Parte 3. Análisis del test A/B"
   ]
  },
  {
   "cell_type": "markdown",
   "id": "08dc81ad",
   "metadata": {},
   "source": [
    "## Preprocesamiento de datos"
   ]
  },
  {
   "cell_type": "code",
   "execution_count": 1,
   "id": "7af94299",
   "metadata": {},
   "outputs": [],
   "source": [
    "#Importar librerias necesarias\n",
    "import pandas as pd\n",
    "import datetime as dt\n",
    "import numpy as np\n",
    "import matplotlib.pyplot as plt\n",
    "import scipy.stats as stats"
   ]
  },
  {
   "cell_type": "code",
   "execution_count": 2,
   "id": "4ef1e63b",
   "metadata": {},
   "outputs": [],
   "source": [
    "#Acceder a archivos\n",
    "hypotheses = pd.read_csv('/datasets/hypotheses_us.csv', ';') #Se especifica el tipo de separador, ya que no es ','\n",
    "orders = pd.read_csv('/datasets/orders_us.csv')\n",
    "visits = pd.read_csv('/datasets/visits_us.csv')"
   ]
  },
  {
   "cell_type": "markdown",
   "id": "17405149",
   "metadata": {},
   "source": [
    "### hypotheses"
   ]
  },
  {
   "cell_type": "code",
   "execution_count": 3,
   "id": "53c4f448",
   "metadata": {},
   "outputs": [
    {
     "data": {
      "text/html": [
       "<div>\n",
       "<style scoped>\n",
       "    .dataframe tbody tr th:only-of-type {\n",
       "        vertical-align: middle;\n",
       "    }\n",
       "\n",
       "    .dataframe tbody tr th {\n",
       "        vertical-align: top;\n",
       "    }\n",
       "\n",
       "    .dataframe thead th {\n",
       "        text-align: right;\n",
       "    }\n",
       "</style>\n",
       "<table border=\"1\" class=\"dataframe\">\n",
       "  <thead>\n",
       "    <tr style=\"text-align: right;\">\n",
       "      <th></th>\n",
       "      <th>Hypothesis</th>\n",
       "      <th>Reach</th>\n",
       "      <th>Impact</th>\n",
       "      <th>Confidence</th>\n",
       "      <th>Effort</th>\n",
       "    </tr>\n",
       "  </thead>\n",
       "  <tbody>\n",
       "    <tr>\n",
       "      <th>0</th>\n",
       "      <td>Add two new channels for attracting traffic. T...</td>\n",
       "      <td>3</td>\n",
       "      <td>10</td>\n",
       "      <td>8</td>\n",
       "      <td>6</td>\n",
       "    </tr>\n",
       "    <tr>\n",
       "      <th>1</th>\n",
       "      <td>Launch your own delivery service. This will sh...</td>\n",
       "      <td>2</td>\n",
       "      <td>5</td>\n",
       "      <td>4</td>\n",
       "      <td>10</td>\n",
       "    </tr>\n",
       "    <tr>\n",
       "      <th>2</th>\n",
       "      <td>Add product recommendation blocks to the store...</td>\n",
       "      <td>8</td>\n",
       "      <td>3</td>\n",
       "      <td>7</td>\n",
       "      <td>3</td>\n",
       "    </tr>\n",
       "    <tr>\n",
       "      <th>3</th>\n",
       "      <td>Change the category structure. This will incre...</td>\n",
       "      <td>8</td>\n",
       "      <td>3</td>\n",
       "      <td>3</td>\n",
       "      <td>8</td>\n",
       "    </tr>\n",
       "    <tr>\n",
       "      <th>4</th>\n",
       "      <td>Change the background color on the main page. ...</td>\n",
       "      <td>3</td>\n",
       "      <td>1</td>\n",
       "      <td>1</td>\n",
       "      <td>1</td>\n",
       "    </tr>\n",
       "    <tr>\n",
       "      <th>5</th>\n",
       "      <td>Add a customer review page. This will increase...</td>\n",
       "      <td>3</td>\n",
       "      <td>2</td>\n",
       "      <td>2</td>\n",
       "      <td>3</td>\n",
       "    </tr>\n",
       "    <tr>\n",
       "      <th>6</th>\n",
       "      <td>Show banners with current offers and sales on ...</td>\n",
       "      <td>5</td>\n",
       "      <td>3</td>\n",
       "      <td>8</td>\n",
       "      <td>3</td>\n",
       "    </tr>\n",
       "    <tr>\n",
       "      <th>7</th>\n",
       "      <td>Add a subscription form to all the main pages....</td>\n",
       "      <td>10</td>\n",
       "      <td>7</td>\n",
       "      <td>8</td>\n",
       "      <td>5</td>\n",
       "    </tr>\n",
       "    <tr>\n",
       "      <th>8</th>\n",
       "      <td>Launch a promotion that gives users discounts ...</td>\n",
       "      <td>1</td>\n",
       "      <td>9</td>\n",
       "      <td>9</td>\n",
       "      <td>5</td>\n",
       "    </tr>\n",
       "  </tbody>\n",
       "</table>\n",
       "</div>"
      ],
      "text/plain": [
       "                                          Hypothesis  Reach  Impact  \\\n",
       "0  Add two new channels for attracting traffic. T...      3      10   \n",
       "1  Launch your own delivery service. This will sh...      2       5   \n",
       "2  Add product recommendation blocks to the store...      8       3   \n",
       "3  Change the category structure. This will incre...      8       3   \n",
       "4  Change the background color on the main page. ...      3       1   \n",
       "5  Add a customer review page. This will increase...      3       2   \n",
       "6  Show banners with current offers and sales on ...      5       3   \n",
       "7  Add a subscription form to all the main pages....     10       7   \n",
       "8  Launch a promotion that gives users discounts ...      1       9   \n",
       "\n",
       "   Confidence  Effort  \n",
       "0           8       6  \n",
       "1           4      10  \n",
       "2           7       3  \n",
       "3           3       8  \n",
       "4           1       1  \n",
       "5           2       3  \n",
       "6           8       3  \n",
       "7           8       5  \n",
       "8           9       5  "
      ]
     },
     "execution_count": 3,
     "metadata": {},
     "output_type": "execute_result"
    }
   ],
   "source": [
    "#Mustra de los datos\n",
    "hypotheses"
   ]
  },
  {
   "cell_type": "code",
   "execution_count": 4,
   "id": "e7332ae9",
   "metadata": {},
   "outputs": [
    {
     "name": "stdout",
     "output_type": "stream",
     "text": [
      "<class 'pandas.core.frame.DataFrame'>\n",
      "RangeIndex: 9 entries, 0 to 8\n",
      "Data columns (total 5 columns):\n",
      " #   Column      Non-Null Count  Dtype \n",
      "---  ------      --------------  ----- \n",
      " 0   Hypothesis  9 non-null      object\n",
      " 1   Reach       9 non-null      int64 \n",
      " 2   Impact      9 non-null      int64 \n",
      " 3   Confidence  9 non-null      int64 \n",
      " 4   Effort      9 non-null      int64 \n",
      "dtypes: int64(4), object(1)\n",
      "memory usage: 488.0+ bytes\n"
     ]
    }
   ],
   "source": [
    "#Información general\n",
    "hypotheses.info()"
   ]
  },
  {
   "cell_type": "markdown",
   "id": "4ee44576",
   "metadata": {},
   "source": [
    "Nombre de las columnas y tipos de datos se ven bien."
   ]
  },
  {
   "cell_type": "markdown",
   "id": "147e979f",
   "metadata": {},
   "source": [
    "### Orders"
   ]
  },
  {
   "cell_type": "code",
   "execution_count": 5,
   "id": "d8265ae4",
   "metadata": {},
   "outputs": [
    {
     "data": {
      "text/html": [
       "<div>\n",
       "<style scoped>\n",
       "    .dataframe tbody tr th:only-of-type {\n",
       "        vertical-align: middle;\n",
       "    }\n",
       "\n",
       "    .dataframe tbody tr th {\n",
       "        vertical-align: top;\n",
       "    }\n",
       "\n",
       "    .dataframe thead th {\n",
       "        text-align: right;\n",
       "    }\n",
       "</style>\n",
       "<table border=\"1\" class=\"dataframe\">\n",
       "  <thead>\n",
       "    <tr style=\"text-align: right;\">\n",
       "      <th></th>\n",
       "      <th>transactionId</th>\n",
       "      <th>visitorId</th>\n",
       "      <th>date</th>\n",
       "      <th>revenue</th>\n",
       "      <th>group</th>\n",
       "    </tr>\n",
       "  </thead>\n",
       "  <tbody>\n",
       "    <tr>\n",
       "      <th>0</th>\n",
       "      <td>3667963787</td>\n",
       "      <td>3312258926</td>\n",
       "      <td>2019-08-15</td>\n",
       "      <td>30.4</td>\n",
       "      <td>B</td>\n",
       "    </tr>\n",
       "    <tr>\n",
       "      <th>1</th>\n",
       "      <td>2804400009</td>\n",
       "      <td>3642806036</td>\n",
       "      <td>2019-08-15</td>\n",
       "      <td>15.2</td>\n",
       "      <td>B</td>\n",
       "    </tr>\n",
       "    <tr>\n",
       "      <th>2</th>\n",
       "      <td>2961555356</td>\n",
       "      <td>4069496402</td>\n",
       "      <td>2019-08-15</td>\n",
       "      <td>10.2</td>\n",
       "      <td>A</td>\n",
       "    </tr>\n",
       "    <tr>\n",
       "      <th>3</th>\n",
       "      <td>3797467345</td>\n",
       "      <td>1196621759</td>\n",
       "      <td>2019-08-15</td>\n",
       "      <td>155.1</td>\n",
       "      <td>B</td>\n",
       "    </tr>\n",
       "    <tr>\n",
       "      <th>4</th>\n",
       "      <td>2282983706</td>\n",
       "      <td>2322279887</td>\n",
       "      <td>2019-08-15</td>\n",
       "      <td>40.5</td>\n",
       "      <td>B</td>\n",
       "    </tr>\n",
       "  </tbody>\n",
       "</table>\n",
       "</div>"
      ],
      "text/plain": [
       "   transactionId   visitorId        date  revenue group\n",
       "0     3667963787  3312258926  2019-08-15     30.4     B\n",
       "1     2804400009  3642806036  2019-08-15     15.2     B\n",
       "2     2961555356  4069496402  2019-08-15     10.2     A\n",
       "3     3797467345  1196621759  2019-08-15    155.1     B\n",
       "4     2282983706  2322279887  2019-08-15     40.5     B"
      ]
     },
     "execution_count": 5,
     "metadata": {},
     "output_type": "execute_result"
    }
   ],
   "source": [
    "#Muestra de los datos\n",
    "orders.head()"
   ]
  },
  {
   "cell_type": "code",
   "execution_count": 6,
   "id": "fb2d680a",
   "metadata": {},
   "outputs": [
    {
     "name": "stdout",
     "output_type": "stream",
     "text": [
      "<class 'pandas.core.frame.DataFrame'>\n",
      "RangeIndex: 1197 entries, 0 to 1196\n",
      "Data columns (total 5 columns):\n",
      " #   Column         Non-Null Count  Dtype  \n",
      "---  ------         --------------  -----  \n",
      " 0   transactionId  1197 non-null   int64  \n",
      " 1   visitorId      1197 non-null   int64  \n",
      " 2   date           1197 non-null   object \n",
      " 3   revenue        1197 non-null   float64\n",
      " 4   group          1197 non-null   object \n",
      "dtypes: float64(1), int64(2), object(2)\n",
      "memory usage: 46.9+ KB\n"
     ]
    }
   ],
   "source": [
    "#Información general\n",
    "orders.info()"
   ]
  },
  {
   "cell_type": "markdown",
   "id": "e748fa4c",
   "metadata": {},
   "source": [
    "Nombres columnas se ven bien, no hay valores ausentes evidentes y `date` se debe pasar a timedate."
   ]
  },
  {
   "cell_type": "code",
   "execution_count": 7,
   "id": "cbf609ba",
   "metadata": {},
   "outputs": [],
   "source": [
    "#Cambiar el tipo de datos de date\n",
    "orders['date'] = orders['date'].map(lambda x: dt.datetime.strptime(x, '%Y-%m-%d'))"
   ]
  },
  {
   "cell_type": "code",
   "execution_count": 8,
   "id": "6f2c7ad9",
   "metadata": {},
   "outputs": [
    {
     "data": {
      "text/plain": [
       "transactionId    0\n",
       "visitorId        0\n",
       "date             0\n",
       "revenue          0\n",
       "group            0\n",
       "dtype: int64"
      ]
     },
     "execution_count": 8,
     "metadata": {},
     "output_type": "execute_result"
    }
   ],
   "source": [
    "#Verificar valores ausentes\n",
    "orders.isna().sum()"
   ]
  },
  {
   "cell_type": "code",
   "execution_count": 9,
   "id": "56ddbd97",
   "metadata": {},
   "outputs": [
    {
     "data": {
      "text/plain": [
       "0"
      ]
     },
     "execution_count": 9,
     "metadata": {},
     "output_type": "execute_result"
    }
   ],
   "source": [
    "#Verificar duplicados\n",
    "orders.duplicated().sum()"
   ]
  },
  {
   "cell_type": "markdown",
   "id": "60370a1e",
   "metadata": {},
   "source": [
    "### Visits"
   ]
  },
  {
   "cell_type": "code",
   "execution_count": 10,
   "id": "697b040b",
   "metadata": {},
   "outputs": [
    {
     "data": {
      "text/html": [
       "<div>\n",
       "<style scoped>\n",
       "    .dataframe tbody tr th:only-of-type {\n",
       "        vertical-align: middle;\n",
       "    }\n",
       "\n",
       "    .dataframe tbody tr th {\n",
       "        vertical-align: top;\n",
       "    }\n",
       "\n",
       "    .dataframe thead th {\n",
       "        text-align: right;\n",
       "    }\n",
       "</style>\n",
       "<table border=\"1\" class=\"dataframe\">\n",
       "  <thead>\n",
       "    <tr style=\"text-align: right;\">\n",
       "      <th></th>\n",
       "      <th>date</th>\n",
       "      <th>group</th>\n",
       "      <th>visits</th>\n",
       "    </tr>\n",
       "  </thead>\n",
       "  <tbody>\n",
       "    <tr>\n",
       "      <th>0</th>\n",
       "      <td>2019-08-01</td>\n",
       "      <td>A</td>\n",
       "      <td>719</td>\n",
       "    </tr>\n",
       "    <tr>\n",
       "      <th>1</th>\n",
       "      <td>2019-08-02</td>\n",
       "      <td>A</td>\n",
       "      <td>619</td>\n",
       "    </tr>\n",
       "    <tr>\n",
       "      <th>2</th>\n",
       "      <td>2019-08-03</td>\n",
       "      <td>A</td>\n",
       "      <td>507</td>\n",
       "    </tr>\n",
       "    <tr>\n",
       "      <th>3</th>\n",
       "      <td>2019-08-04</td>\n",
       "      <td>A</td>\n",
       "      <td>717</td>\n",
       "    </tr>\n",
       "    <tr>\n",
       "      <th>4</th>\n",
       "      <td>2019-08-05</td>\n",
       "      <td>A</td>\n",
       "      <td>756</td>\n",
       "    </tr>\n",
       "  </tbody>\n",
       "</table>\n",
       "</div>"
      ],
      "text/plain": [
       "         date group  visits\n",
       "0  2019-08-01     A     719\n",
       "1  2019-08-02     A     619\n",
       "2  2019-08-03     A     507\n",
       "3  2019-08-04     A     717\n",
       "4  2019-08-05     A     756"
      ]
     },
     "execution_count": 10,
     "metadata": {},
     "output_type": "execute_result"
    }
   ],
   "source": [
    "#Muestra de datos\n",
    "visits.head()"
   ]
  },
  {
   "cell_type": "code",
   "execution_count": 11,
   "id": "a9a20427",
   "metadata": {},
   "outputs": [
    {
     "name": "stdout",
     "output_type": "stream",
     "text": [
      "<class 'pandas.core.frame.DataFrame'>\n",
      "RangeIndex: 62 entries, 0 to 61\n",
      "Data columns (total 3 columns):\n",
      " #   Column  Non-Null Count  Dtype \n",
      "---  ------  --------------  ----- \n",
      " 0   date    62 non-null     object\n",
      " 1   group   62 non-null     object\n",
      " 2   visits  62 non-null     int64 \n",
      "dtypes: int64(1), object(2)\n",
      "memory usage: 1.6+ KB\n"
     ]
    }
   ],
   "source": [
    "#Información general\n",
    "visits.info()"
   ]
  },
  {
   "cell_type": "markdown",
   "id": "691df9c8",
   "metadata": {},
   "source": [
    "Nombres columnas se ven bien, no hay valores ausentes evidentes y `date` se debe pasar a timedate."
   ]
  },
  {
   "cell_type": "code",
   "execution_count": 12,
   "id": "887d30e9",
   "metadata": {},
   "outputs": [],
   "source": [
    "visits['date'] = visits['date'].map(lambda x: dt.datetime.strptime(x, '%Y-%m-%d'))"
   ]
  },
  {
   "cell_type": "code",
   "execution_count": 13,
   "id": "992eb4bd",
   "metadata": {},
   "outputs": [
    {
     "data": {
      "text/plain": [
       "0"
      ]
     },
     "execution_count": 13,
     "metadata": {},
     "output_type": "execute_result"
    }
   ],
   "source": [
    "#Verificar duplicados\n",
    "visits.duplicated().sum()"
   ]
  },
  {
   "cell_type": "code",
   "execution_count": 14,
   "id": "b1de244f",
   "metadata": {},
   "outputs": [
    {
     "data": {
      "text/plain": [
       "date      0\n",
       "group     0\n",
       "visits    0\n",
       "dtype: int64"
      ]
     },
     "execution_count": 14,
     "metadata": {},
     "output_type": "execute_result"
    }
   ],
   "source": [
    "#Verificar valortes ausentes\n",
    "visits.isna().sum()"
   ]
  },
  {
   "cell_type": "markdown",
   "id": "bd10efff",
   "metadata": {},
   "source": [
    "## Priorizar hipótesis"
   ]
  },
  {
   "cell_type": "code",
   "execution_count": 15,
   "id": "0f23cf24",
   "metadata": {},
   "outputs": [
    {
     "data": {
      "text/html": [
       "<div>\n",
       "<style scoped>\n",
       "    .dataframe tbody tr th:only-of-type {\n",
       "        vertical-align: middle;\n",
       "    }\n",
       "\n",
       "    .dataframe tbody tr th {\n",
       "        vertical-align: top;\n",
       "    }\n",
       "\n",
       "    .dataframe thead th {\n",
       "        text-align: right;\n",
       "    }\n",
       "</style>\n",
       "<table border=\"1\" class=\"dataframe\">\n",
       "  <thead>\n",
       "    <tr style=\"text-align: right;\">\n",
       "      <th></th>\n",
       "      <th>Hypothesis</th>\n",
       "      <th>ICE</th>\n",
       "    </tr>\n",
       "  </thead>\n",
       "  <tbody>\n",
       "    <tr>\n",
       "      <th>8</th>\n",
       "      <td>Launch a promotion that gives users discounts ...</td>\n",
       "      <td>16.200000</td>\n",
       "    </tr>\n",
       "    <tr>\n",
       "      <th>0</th>\n",
       "      <td>Add two new channels for attracting traffic. T...</td>\n",
       "      <td>13.333333</td>\n",
       "    </tr>\n",
       "    <tr>\n",
       "      <th>7</th>\n",
       "      <td>Add a subscription form to all the main pages....</td>\n",
       "      <td>11.200000</td>\n",
       "    </tr>\n",
       "    <tr>\n",
       "      <th>6</th>\n",
       "      <td>Show banners with current offers and sales on ...</td>\n",
       "      <td>8.000000</td>\n",
       "    </tr>\n",
       "    <tr>\n",
       "      <th>2</th>\n",
       "      <td>Add product recommendation blocks to the store...</td>\n",
       "      <td>7.000000</td>\n",
       "    </tr>\n",
       "    <tr>\n",
       "      <th>1</th>\n",
       "      <td>Launch your own delivery service. This will sh...</td>\n",
       "      <td>2.000000</td>\n",
       "    </tr>\n",
       "    <tr>\n",
       "      <th>5</th>\n",
       "      <td>Add a customer review page. This will increase...</td>\n",
       "      <td>1.333333</td>\n",
       "    </tr>\n",
       "    <tr>\n",
       "      <th>3</th>\n",
       "      <td>Change the category structure. This will incre...</td>\n",
       "      <td>1.125000</td>\n",
       "    </tr>\n",
       "    <tr>\n",
       "      <th>4</th>\n",
       "      <td>Change the background color on the main page. ...</td>\n",
       "      <td>1.000000</td>\n",
       "    </tr>\n",
       "  </tbody>\n",
       "</table>\n",
       "</div>"
      ],
      "text/plain": [
       "                                          Hypothesis        ICE\n",
       "8  Launch a promotion that gives users discounts ...  16.200000\n",
       "0  Add two new channels for attracting traffic. T...  13.333333\n",
       "7  Add a subscription form to all the main pages....  11.200000\n",
       "6  Show banners with current offers and sales on ...   8.000000\n",
       "2  Add product recommendation blocks to the store...   7.000000\n",
       "1  Launch your own delivery service. This will sh...   2.000000\n",
       "5  Add a customer review page. This will increase...   1.333333\n",
       "3  Change the category structure. This will incre...   1.125000\n",
       "4  Change the background color on the main page. ...   1.000000"
      ]
     },
     "execution_count": 15,
     "metadata": {},
     "output_type": "execute_result"
    }
   ],
   "source": [
    "#Aplicar el framework ICE para priorizar hipótesis\n",
    "hypotheses['ICE'] = (hypotheses['Impact'] * hypotheses['Confidence'])/hypotheses['Effort']\n",
    "hypotheses[['Hypothesis', 'ICE']].sort_values(by='ICE', ascending=False)"
   ]
  },
  {
   "cell_type": "markdown",
   "id": "a0482cf4",
   "metadata": {},
   "source": [
    "Según el método ICE la hipótesis `8` es la más prometedora, seguida por las hipótesis 0, 7 y 6. "
   ]
  },
  {
   "cell_type": "code",
   "execution_count": 16,
   "id": "3ed1b98a",
   "metadata": {},
   "outputs": [
    {
     "data": {
      "text/html": [
       "<div>\n",
       "<style scoped>\n",
       "    .dataframe tbody tr th:only-of-type {\n",
       "        vertical-align: middle;\n",
       "    }\n",
       "\n",
       "    .dataframe tbody tr th {\n",
       "        vertical-align: top;\n",
       "    }\n",
       "\n",
       "    .dataframe thead th {\n",
       "        text-align: right;\n",
       "    }\n",
       "</style>\n",
       "<table border=\"1\" class=\"dataframe\">\n",
       "  <thead>\n",
       "    <tr style=\"text-align: right;\">\n",
       "      <th></th>\n",
       "      <th>Hypothesis</th>\n",
       "      <th>RICE</th>\n",
       "    </tr>\n",
       "  </thead>\n",
       "  <tbody>\n",
       "    <tr>\n",
       "      <th>7</th>\n",
       "      <td>Add a subscription form to all the main pages....</td>\n",
       "      <td>112.0</td>\n",
       "    </tr>\n",
       "    <tr>\n",
       "      <th>2</th>\n",
       "      <td>Add product recommendation blocks to the store...</td>\n",
       "      <td>56.0</td>\n",
       "    </tr>\n",
       "    <tr>\n",
       "      <th>0</th>\n",
       "      <td>Add two new channels for attracting traffic. T...</td>\n",
       "      <td>40.0</td>\n",
       "    </tr>\n",
       "    <tr>\n",
       "      <th>6</th>\n",
       "      <td>Show banners with current offers and sales on ...</td>\n",
       "      <td>40.0</td>\n",
       "    </tr>\n",
       "    <tr>\n",
       "      <th>8</th>\n",
       "      <td>Launch a promotion that gives users discounts ...</td>\n",
       "      <td>16.2</td>\n",
       "    </tr>\n",
       "    <tr>\n",
       "      <th>3</th>\n",
       "      <td>Change the category structure. This will incre...</td>\n",
       "      <td>9.0</td>\n",
       "    </tr>\n",
       "    <tr>\n",
       "      <th>1</th>\n",
       "      <td>Launch your own delivery service. This will sh...</td>\n",
       "      <td>4.0</td>\n",
       "    </tr>\n",
       "    <tr>\n",
       "      <th>5</th>\n",
       "      <td>Add a customer review page. This will increase...</td>\n",
       "      <td>4.0</td>\n",
       "    </tr>\n",
       "    <tr>\n",
       "      <th>4</th>\n",
       "      <td>Change the background color on the main page. ...</td>\n",
       "      <td>3.0</td>\n",
       "    </tr>\n",
       "  </tbody>\n",
       "</table>\n",
       "</div>"
      ],
      "text/plain": [
       "                                          Hypothesis   RICE\n",
       "7  Add a subscription form to all the main pages....  112.0\n",
       "2  Add product recommendation blocks to the store...   56.0\n",
       "0  Add two new channels for attracting traffic. T...   40.0\n",
       "6  Show banners with current offers and sales on ...   40.0\n",
       "8  Launch a promotion that gives users discounts ...   16.2\n",
       "3  Change the category structure. This will incre...    9.0\n",
       "1  Launch your own delivery service. This will sh...    4.0\n",
       "5  Add a customer review page. This will increase...    4.0\n",
       "4  Change the background color on the main page. ...    3.0"
      ]
     },
     "execution_count": 16,
     "metadata": {},
     "output_type": "execute_result"
    }
   ],
   "source": [
    "#Aplicar el framework RICE para priorizar hipótesis\n",
    "hypotheses['RICE'] = (hypotheses['Reach'] * hypotheses['Impact'] * hypotheses['Confidence'])/hypotheses['Effort']\n",
    "hypotheses[['Hypothesis', 'RICE']].sort_values(by='RICE', ascending=False)"
   ]
  },
  {
   "cell_type": "markdown",
   "id": "a5d10125",
   "metadata": {},
   "source": [
    "Según el método RICE la hipótesis `7` es la más prometedora, seguida por las hipótesis 2, 0 y 6."
   ]
  },
  {
   "cell_type": "markdown",
   "id": "4a307dfd",
   "metadata": {},
   "source": [
    "Ambos métodos priorizan las hipótesis `7`, `0` y `6`. Sin embargo, no coindicen en la hipéotesis más prometedora. \n",
    "\n",
    "Al usar RICE, se obtiene una priorización que favorece las hipótesis con un mayor alcance (usuarios afectados), mientras que ICE se centra más en el impacto individual."
   ]
  },
  {
   "cell_type": "markdown",
   "id": "6e8e1f3f",
   "metadata": {},
   "source": [
    "## Análisis del test A/B"
   ]
  },
  {
   "cell_type": "code",
   "execution_count": 17,
   "id": "532a7cc5",
   "metadata": {},
   "outputs": [],
   "source": [
    "#Crea una matriz con valores únicos de parejas fecha-grupo\n",
    "datesGroups = orders[['date', 'group']].drop_duplicates()\n",
    "\n",
    "#Obtener los datos diarios acumulados agregados sobre los pedidos \n",
    "ordersAggregated = datesGroups.apply(\n",
    "    lambda x: orders[\n",
    "        np.logical_and(\n",
    "            orders['date'] <= x['date'], orders['group'] == x['group']\n",
    "        )\n",
    "    ].agg(\n",
    "        {\n",
    "'date' : 'max',\n",
    "'group' : 'max',\n",
    "'transactionId' : pd.Series.nunique,\n",
    "'visitorId' : pd.Series.nunique,\n",
    "'revenue' : 'sum'\n",
    "        }\n",
    "    ), axis=1\n",
    ").sort_values(by=['date', 'group'])"
   ]
  },
  {
   "cell_type": "code",
   "execution_count": 18,
   "id": "a942f578",
   "metadata": {},
   "outputs": [],
   "source": [
    "#Obtener los datos diarios acumulados agregados sobre los visitantes\n",
    "visitsAggregated = datesGroups.apply(\n",
    "    lambda x: visits[\n",
    "        np.logical_and(\n",
    "            visits['date'] <= x['date'], visits['group'] == x['group']\n",
    "        )\n",
    "    ].agg(\n",
    "        {\n",
    "            'date' : 'max',\n",
    "            'group' : 'max',\n",
    "            'visits' : 'sum'\n",
    "        }\n",
    "    ), axis=1\n",
    ").sort_values(by=['date','group'])"
   ]
  },
  {
   "cell_type": "code",
   "execution_count": 19,
   "id": "7664ec25",
   "metadata": {},
   "outputs": [
    {
     "data": {
      "text/html": [
       "<div>\n",
       "<style scoped>\n",
       "    .dataframe tbody tr th:only-of-type {\n",
       "        vertical-align: middle;\n",
       "    }\n",
       "\n",
       "    .dataframe tbody tr th {\n",
       "        vertical-align: top;\n",
       "    }\n",
       "\n",
       "    .dataframe thead th {\n",
       "        text-align: right;\n",
       "    }\n",
       "</style>\n",
       "<table border=\"1\" class=\"dataframe\">\n",
       "  <thead>\n",
       "    <tr style=\"text-align: right;\">\n",
       "      <th></th>\n",
       "      <th>date</th>\n",
       "      <th>group</th>\n",
       "      <th>orders</th>\n",
       "      <th>buyers</th>\n",
       "      <th>revenue</th>\n",
       "      <th>visits</th>\n",
       "    </tr>\n",
       "  </thead>\n",
       "  <tbody>\n",
       "    <tr>\n",
       "      <th>0</th>\n",
       "      <td>2019-08-01</td>\n",
       "      <td>A</td>\n",
       "      <td>24</td>\n",
       "      <td>20</td>\n",
       "      <td>2356.8</td>\n",
       "      <td>719</td>\n",
       "    </tr>\n",
       "    <tr>\n",
       "      <th>1</th>\n",
       "      <td>2019-08-01</td>\n",
       "      <td>B</td>\n",
       "      <td>21</td>\n",
       "      <td>20</td>\n",
       "      <td>1620.0</td>\n",
       "      <td>713</td>\n",
       "    </tr>\n",
       "    <tr>\n",
       "      <th>2</th>\n",
       "      <td>2019-08-02</td>\n",
       "      <td>A</td>\n",
       "      <td>44</td>\n",
       "      <td>38</td>\n",
       "      <td>3860.3</td>\n",
       "      <td>1338</td>\n",
       "    </tr>\n",
       "    <tr>\n",
       "      <th>3</th>\n",
       "      <td>2019-08-02</td>\n",
       "      <td>B</td>\n",
       "      <td>45</td>\n",
       "      <td>43</td>\n",
       "      <td>4243.8</td>\n",
       "      <td>1294</td>\n",
       "    </tr>\n",
       "    <tr>\n",
       "      <th>4</th>\n",
       "      <td>2019-08-03</td>\n",
       "      <td>A</td>\n",
       "      <td>68</td>\n",
       "      <td>62</td>\n",
       "      <td>5675.5</td>\n",
       "      <td>1845</td>\n",
       "    </tr>\n",
       "  </tbody>\n",
       "</table>\n",
       "</div>"
      ],
      "text/plain": [
       "        date group  orders  buyers  revenue  visits\n",
       "0 2019-08-01     A      24      20   2356.8     719\n",
       "1 2019-08-01     B      21      20   1620.0     713\n",
       "2 2019-08-02     A      44      38   3860.3    1338\n",
       "3 2019-08-02     B      45      43   4243.8    1294\n",
       "4 2019-08-03     A      68      62   5675.5    1845"
      ]
     },
     "execution_count": 19,
     "metadata": {},
     "output_type": "execute_result"
    }
   ],
   "source": [
    "#Fusionar las dos tablas en una y dar a sus columnas nombres descriptivos\n",
    "cumulativeData = ordersAggregated.merge(visitsAggregated, left_on=['date', 'group'], right_on=['date', 'group'])\n",
    "\n",
    "cumulativeData.columns = ['date', 'group', 'orders', 'buyers', 'revenue', 'visits']\n",
    "\n",
    "cumulativeData.head()"
   ]
  },
  {
   "cell_type": "markdown",
   "id": "2212f127",
   "metadata": {},
   "source": [
    "### Representar gráficamente el ingreso acumulado por grupo"
   ]
  },
  {
   "cell_type": "code",
   "execution_count": 20,
   "id": "d92fa56b",
   "metadata": {},
   "outputs": [
    {
     "data": {
      "text/plain": [
       "<matplotlib.legend.Legend at 0x7f3b4f13fa90>"
      ]
     },
     "execution_count": 20,
     "metadata": {},
     "output_type": "execute_result"
    },
    {
     "data": {
      "image/png": "[encoded data removed]",
      "text/plain": [
       "<Figure size 640x480 with 1 Axes>"
      ]
     },
     "metadata": {},
     "output_type": "display_data"
    }
   ],
   "source": [
    "#DataFrame con pedidos acumulados e ingresos acumulados por día, grupo A\n",
    "cumulativeRevenueA = cumulativeData[cumulativeData['group']=='A'][['date','revenue', 'orders']]\n",
    "\n",
    "# DataFrame con pedidos acumulados e ingresos acumulados por día, grupo B\n",
    "cumulativeRevenueB = cumulativeData[cumulativeData['group']=='B'][['date','revenue', 'orders']]\n",
    "\n",
    "# Trazar el gráfico de ingresos del grupo A\n",
    "plt.plot(cumulativeRevenueA['date'], cumulativeRevenueA['revenue'], label='A')\n",
    "\n",
    "# Trazar el gráfico de ingresos del grupo B\n",
    "plt.plot(cumulativeRevenueB['date'], cumulativeRevenueB['revenue'], label='B')\n",
    "\n",
    "plt.legend()"
   ]
  },
  {
   "cell_type": "markdown",
   "id": "98bd6cc8",
   "metadata": {},
   "source": [
    "Los ingresos aumentan constantemente durante toda la prueba. Es una buena señal. Sin embargo, el grupo `B` tiene un pico muy grande en los ingresos. Esto puede implicar un aumento en el número de pedidos o la existencia de pedidos muy caros en la muestra."
   ]
  },
  {
   "cell_type": "markdown",
   "id": "acd9a808",
   "metadata": {},
   "source": [
    "### Representar gráficamente el tamaño de pedido promedio acumulado por grupo"
   ]
  },
  {
   "cell_type": "code",
   "execution_count": 21,
   "id": "4d2a0519",
   "metadata": {},
   "outputs": [
    {
     "data": {
      "text/plain": [
       "<matplotlib.legend.Legend at 0x7f3b4f085c10>"
      ]
     },
     "execution_count": 21,
     "metadata": {},
     "output_type": "execute_result"
    },
    {
     "data": {
      "image/png": "[encoded data removed]",
      "text/plain": [
       "<Figure size 640x480 with 1 Axes>"
      ]
     },
     "metadata": {},
     "output_type": "display_data"
    }
   ],
   "source": [
    "#Dividir los ingresos acumulados entre el número acumulado de pedidos\n",
    "plt.plot(cumulativeRevenueA['date'], cumulativeRevenueA['revenue']/cumulativeRevenueA['orders'], label='A')\n",
    "\n",
    "plt.plot(cumulativeRevenueB['date'], cumulativeRevenueB['revenue']/cumulativeRevenueB['orders'], label='B')\n",
    "\n",
    "plt.legend()"
   ]
  },
  {
   "cell_type": "markdown",
   "id": "fb0c3d02",
   "metadata": {},
   "source": [
    "El grupo `B` también tiene un pico muy grande en el promedio de las compras. Se estabiliza al final de la prueba para el grupo `A` y comienza a caer para el grupo `B`. "
   ]
  },
  {
   "cell_type": "markdown",
   "id": "80077c19",
   "metadata": {},
   "source": [
    "### Representar gráficamente la diferencia relativa en el tamaño de pedido promedio acumulado para el grupo `B` en comparación con el grupo `A`"
   ]
  },
  {
   "cell_type": "code",
   "execution_count": 22,
   "id": "6376d9d3",
   "metadata": {},
   "outputs": [
    {
     "data": {
      "text/plain": [
       "<matplotlib.lines.Line2D at 0x7f3b4f229d30>"
      ]
     },
     "execution_count": 22,
     "metadata": {},
     "output_type": "execute_result"
    },
    {
     "data": {
      "image/png": "[encoded data removed]",
      "text/plain": [
       "<Figure size 640x480 with 1 Axes>"
      ]
     },
     "metadata": {},
     "output_type": "display_data"
    }
   ],
   "source": [
    "#Reunir los datos en un DataFrame\n",
    "mergedCumulativeRevenue = cumulativeRevenueA.merge(cumulativeRevenueB, \n",
    "                                                   left_on='date',\n",
    "                                                   right_on='date',\n",
    "                                                   how='left',\n",
    "                                                   suffixes=['A', 'B'])\n",
    "\n",
    "#Trazar un gráfico de diferencia relativa para los tamaños de compra promedio\n",
    "plt.plot(mergedCumulativeRevenue['date'], (mergedCumulativeRevenue['revenueB']/mergedCumulativeRevenue['ordersB'])/(mergedCumulativeRevenue['revenueA']/mergedCumulativeRevenue['ordersA'])-1)\n",
    "\n",
    "#Agregar el eje X\n",
    "plt.axhline(y=0, color='black', linestyle='--')"
   ]
  },
  {
   "cell_type": "markdown",
   "id": "ca00b533",
   "metadata": {},
   "source": [
    "En varios puntos, la diferencia entre los segmentos aumenta. ¡Esto significa que debe haber algunos pedidos grandes y valores atípicos"
   ]
  },
  {
   "cell_type": "markdown",
   "id": "2df6513b",
   "metadata": {},
   "source": [
    "### Calcular la tasa de conversión de cada grupo como la relación entre los pedidos y el número de visitas de cada día"
   ]
  },
  {
   "cell_type": "code",
   "execution_count": 23,
   "id": "2b8f2a45",
   "metadata": {},
   "outputs": [
    {
     "data": {
      "text/plain": [
       "<matplotlib.legend.Legend at 0x7f3b4b183bb0>"
      ]
     },
     "execution_count": 23,
     "metadata": {},
     "output_type": "execute_result"
    },
    {
     "data": {
      "image/png": "[encoded data removed]",
      "text/plain": [
       "<Figure size 640x480 with 1 Axes>"
      ]
     },
     "metadata": {},
     "output_type": "display_data"
    }
   ],
   "source": [
    "#Calcular la conversión acumulada\n",
    "cumulativeData['conversion'] = cumulativeData['orders']/cumulativeData['visits']\n",
    "\n",
    "#Seleccionar datos en el grupo A\n",
    "cumulativeDataA = cumulativeData[cumulativeData['group']=='A']\n",
    "\n",
    "#Seleccionar datos en el grupo B\n",
    "cumulativeDataB = cumulativeData[cumulativeData['group']=='B']\n",
    "\n",
    "#Trazar los gráficos\n",
    "plt.plot(cumulativeDataA['date'], cumulativeDataA['conversion'], label='A')\n",
    "plt.plot(cumulativeDataB['date'], cumulativeDataB['conversion'], label='B')\n",
    "plt.legend()"
   ]
  },
  {
   "cell_type": "markdown",
   "id": "190cd026",
   "metadata": {},
   "source": [
    " El grupo `A` subió antes de disminuir después estabilizarse. El grupo `B` también subió y bajó antes de estabilizares, peor definitivamente tuvo un aumento en su tasa de conversión."
   ]
  },
  {
   "cell_type": "markdown",
   "id": "4ee26ac3",
   "metadata": {},
   "source": [
    "### Trazar un gráfico de dispersión del número de pedidos por usuario"
   ]
  },
  {
   "cell_type": "code",
   "execution_count": 24,
   "id": "7d22924b",
   "metadata": {},
   "outputs": [
    {
     "data": {
      "text/html": [
       "<div>\n",
       "<style scoped>\n",
       "    .dataframe tbody tr th:only-of-type {\n",
       "        vertical-align: middle;\n",
       "    }\n",
       "\n",
       "    .dataframe tbody tr th {\n",
       "        vertical-align: top;\n",
       "    }\n",
       "\n",
       "    .dataframe thead th {\n",
       "        text-align: right;\n",
       "    }\n",
       "</style>\n",
       "<table border=\"1\" class=\"dataframe\">\n",
       "  <thead>\n",
       "    <tr style=\"text-align: right;\">\n",
       "      <th></th>\n",
       "      <th>visitorId</th>\n",
       "      <th>orders</th>\n",
       "    </tr>\n",
       "  </thead>\n",
       "  <tbody>\n",
       "    <tr>\n",
       "      <th>1023</th>\n",
       "      <td>4256040402</td>\n",
       "      <td>11</td>\n",
       "    </tr>\n",
       "    <tr>\n",
       "      <th>591</th>\n",
       "      <td>2458001652</td>\n",
       "      <td>11</td>\n",
       "    </tr>\n",
       "    <tr>\n",
       "      <th>569</th>\n",
       "      <td>2378935119</td>\n",
       "      <td>9</td>\n",
       "    </tr>\n",
       "    <tr>\n",
       "      <th>487</th>\n",
       "      <td>2038680547</td>\n",
       "      <td>8</td>\n",
       "    </tr>\n",
       "    <tr>\n",
       "      <th>44</th>\n",
       "      <td>199603092</td>\n",
       "      <td>5</td>\n",
       "    </tr>\n",
       "  </tbody>\n",
       "</table>\n",
       "</div>"
      ],
      "text/plain": [
       "       visitorId  orders\n",
       "1023  4256040402      11\n",
       "591   2458001652      11\n",
       "569   2378935119       9\n",
       "487   2038680547       8\n",
       "44     199603092       5"
      ]
     },
     "execution_count": 24,
     "metadata": {},
     "output_type": "execute_result"
    }
   ],
   "source": [
    "#Obtener los datos número de pedidos por usuario\n",
    "ordersByUsers = (\n",
    "    orders.drop(['group', 'revenue', 'date'], axis=1)\n",
    "    .groupby('visitorId', as_index=False)\n",
    "    .agg({'transactionId': 'nunique'})\n",
    ")\n",
    "\n",
    "ordersByUsers.columns = ['visitorId', 'orders']\n",
    "\n",
    "ordersByUsers.sort_values(by='orders', ascending=False).head()"
   ]
  },
  {
   "cell_type": "markdown",
   "id": "d664ea26",
   "metadata": {},
   "source": [
    "Hay muchos usuarios con `uno` o `dos`. Se desconoce la proporción exacta."
   ]
  },
  {
   "cell_type": "markdown",
   "id": "8706d59e",
   "metadata": {},
   "source": [
    "### Calcular los percentiles 95 y 99 del número de pedidos por usuario"
   ]
  },
  {
   "cell_type": "code",
   "execution_count": 25,
   "id": "8c196db8",
   "metadata": {},
   "outputs": [
    {
     "data": {
      "text/plain": [
       "array([2., 4.])"
      ]
     },
     "execution_count": 25,
     "metadata": {},
     "output_type": "execute_result"
    }
   ],
   "source": [
    "np.percentile(ordersByUsers['orders'], [95, 99])"
   ]
  },
  {
   "cell_type": "markdown",
   "id": "9c834570",
   "metadata": {},
   "source": [
    "No más del `5%` de los usuarios realizaron `2` pedidos y el `1%` de los usuarios realizaron `4`. Por lo tanto, sería razonable fijar un umbral de `2` órdenes por usuario como límite superior para un comportamiento normal y utilizarlo para filtrar cualquier anomalía. "
   ]
  },
  {
   "cell_type": "markdown",
   "id": "a1becfb9",
   "metadata": {},
   "source": [
    "### Trazar un gráfico de dispersión de los precios de los pedidos"
   ]
  },
  {
   "cell_type": "code",
   "execution_count": 26,
   "id": "04f8c2df",
   "metadata": {},
   "outputs": [
    {
     "data": {
      "text/plain": [
       "<matplotlib.collections.PathCollection at 0x7f3b4b10e430>"
      ]
     },
     "execution_count": 26,
     "metadata": {},
     "output_type": "execute_result"
    },
    {
     "data": {
      "image/png": "[encoded data removed]",
      "text/plain": [
       "<Figure size 640x480 with 1 Axes>"
      ]
     },
     "metadata": {},
     "output_type": "display_data"
    }
   ],
   "source": [
    "x_values = pd.Series(range(0, len(orders['revenue'])))\n",
    "plt.scatter(x_values, orders['revenue'])"
   ]
  },
  {
   "cell_type": "markdown",
   "id": "441939c2",
   "metadata": {},
   "source": [
    "Hay un par de pedidos grandes. Según el gráfico, podemos establecer el límite para `pedidos anormales` a partir de `$2500`."
   ]
  },
  {
   "cell_type": "markdown",
   "id": "6bd7f939",
   "metadata": {},
   "source": [
    "### Calcular los percentiles 95 y 99 de los precios de los pedidos"
   ]
  },
  {
   "cell_type": "code",
   "execution_count": 27,
   "id": "9d4f4472",
   "metadata": {},
   "outputs": [
    {
     "data": {
      "text/plain": [
       "array([435.54 , 900.904])"
      ]
     },
     "execution_count": 27,
     "metadata": {},
     "output_type": "execute_result"
    }
   ],
   "source": [
    "np.percentile(orders['revenue'], [95, 99])"
   ]
  },
  {
   "cell_type": "markdown",
   "id": "021cc22a",
   "metadata": {},
   "source": [
    "No más del `5%` de los usuarios realizaron compras por `$435.54` y el `1%` de los usuarios realizaron compras por `$900.90`. Por lo tanto, sería razonable fijar un umbral de `$900.90` como límite superior para un comportamiento normal y utilizarlo para filtrar cualquier anomalía."
   ]
  },
  {
   "cell_type": "code",
   "execution_count": 28,
   "id": "8a642b42",
   "metadata": {},
   "outputs": [],
   "source": [
    "#Crear las variables ordersByUsersA y ordersByUsersB para almacenar las columnas ['visitorId', 'orders']\n",
    "ordersByUsersA = orders[orders['group']=='A'].groupby('visitorId', as_index=False).agg({'transactionId' : 'nunique'})\n",
    "ordersByUsersA.columns = ['visitorId', 'orders']\n",
    "\n",
    "ordersByUsersB = orders[orders['group']=='B'].groupby('visitorId', as_index=False).agg({'transactionId' : 'nunique'})\n",
    "ordersByUsersB.columns = ['visitorId', 'orders']"
   ]
  },
  {
   "cell_type": "code",
   "execution_count": 29,
   "id": "9766a3ab",
   "metadata": {},
   "outputs": [],
   "source": [
    "#Declarar las variables sampleA y sampleB con usuarios de diferentes grupos y números de pedidos correspondientes\n",
    "#Los que no pidieron nada tendrán un 0\n",
    "\n",
    "sampleA = pd.concat([ordersByUsersA['orders'],pd.Series(0, index=np.arange(visits[visits['group']=='A']['visits'].sum() - len(ordersByUsersA['orders'])), name='orders')],axis=0)\n",
    "sampleB = pd.concat([ordersByUsersB['orders'],pd.Series(0, index=np.arange(visits[visits['group']=='B']['visits'].sum() - len(ordersByUsersB['orders'])), name='orders')],axis=0)"
   ]
  },
  {
   "cell_type": "code",
   "execution_count": 30,
   "id": "4ca7d20b",
   "metadata": {},
   "outputs": [
    {
     "name": "stdout",
     "output_type": "stream",
     "text": [
      "0.017\n",
      "0.138\n"
     ]
    }
   ],
   "source": [
    "#Imprimir la ganancia relativa de conversión para el grupo B\n",
    "print(\"{0:.3f}\".format(stats.mannwhitneyu(sampleA, sampleB)[1]))\n",
    "print(\"{0:.3f}\".format(sampleB.mean()/sampleA.mean()-1))"
   ]
  },
  {
   "cell_type": "markdown",
   "id": "253ff00e",
   "metadata": {},
   "source": [
    "Según los datos sin procesar, no hay diferencia entre los grupos A y B. \n",
    "\n",
    "La primera fila de la salida nos da el `valor p 0.017`, que es mayor que 0.05. Entonces, `no podemos rechazar la hipótesis nula` ya que no hay una diferencia estadísticamente significativa en la conversión entre los grupos. Pero la ganancia relativa del grupo B es del 13.8%.  "
   ]
  },
  {
   "cell_type": "markdown",
   "id": "121d69cb",
   "metadata": {},
   "source": [
    "### Encontrar la significancia estadística de la diferencia en el tamaño promedio de pedido entre los grupos utilizando los datos en bruto"
   ]
  },
  {
   "cell_type": "code",
   "execution_count": 31,
   "id": "db951d00",
   "metadata": {},
   "outputs": [
    {
     "name": "stdout",
     "output_type": "stream",
     "text": [
      "0.692\n",
      "0.252\n"
     ]
    }
   ],
   "source": [
    "#Pasar los datos sobre los ingresos al criterio mannwhitneyu()\n",
    "print('{0:.3f}'.format(stats.mannwhitneyu(orders[orders['group']=='A']['revenue'], orders[orders['group']=='B']['revenue'])[1]))\n",
    "print('{0:.3f}'.format(orders[orders['group']=='B']['revenue'].mean()/orders[orders['group']=='A']['revenue'].mean()-1))"
   ]
  },
  {
   "cell_type": "markdown",
   "id": "6995c5ce",
   "metadata": {},
   "source": [
    "El `valor-p` es notablemente superior a 0.05, por lo que `no hay motivo para rechazar la hipótesis nula` y concluir que el tamaño promedio de los pedidos difiere entre los grupos. El tamaño de pedido promedio para el `grupo B` es  `25.2%` grande que para el `grupo A`.  "
   ]
  },
  {
   "cell_type": "markdown",
   "id": "124b98d5",
   "metadata": {},
   "source": [
    "### Encontrar la significancia estadística de la diferencia en la conversión entre los grupos utilizando los datos filtrados"
   ]
  },
  {
   "cell_type": "markdown",
   "id": "22519679",
   "metadata": {},
   "source": [
    "Se van a definir los `usuarios anómalos` como aquellos que realizan `más de 2 pedidos` o un `pedido mayor a $900.90`. Así se eliminarán el `1%` de los usuarios con mayor número de pedidos y los usuarios con los pedidos más caros. "
   ]
  },
  {
   "cell_type": "code",
   "execution_count": 33,
   "id": "32c6566d",
   "metadata": {},
   "outputs": [
    {
     "name": "stdout",
     "output_type": "stream",
     "text": [
      "1099    148427295\n",
      "18      199603092\n",
      "23      237748145\n",
      "37      249864742\n",
      "68      457167155\n",
      "Name: visitorId, dtype: int64\n",
      "Usuarios anómalos: (31,)\n"
     ]
    }
   ],
   "source": [
    "#Crear slices de datos con los usuarios que realizaron más de 2 pedidos (usersWithManyOrders) \n",
    "#y los usuarios que realizaron pedidos por más de $$900.90 (usersWithExpensiveOrders). \n",
    "#Se unen en una tabla llamada abnormalUsers\n",
    "usersWithManyOrders = pd.concat([ordersByUsersA[ordersByUsersA['orders'] > 2]['visitorId'], ordersByUsersB[ordersByUsersB['orders'] > 2]['visitorId']], axis = 0)\n",
    "usersWithExpensiveOrders = orders[orders['revenue'] > 900.90]['visitorId']\n",
    "abnormalUsers = pd.concat([usersWithManyOrders, usersWithExpensiveOrders], axis = 0).drop_duplicates().sort_values()\n",
    "print(abnormalUsers.head())\n",
    "\n",
    "#Número total de usuarios anómalos\n",
    "print('Usuarios anómalos:', abnormalUsers.shape) "
   ]
  },
  {
   "cell_type": "markdown",
   "id": "f3cb74a5",
   "metadata": {},
   "source": [
    "En total, hay `31` usuarios anómalos. "
   ]
  },
  {
   "cell_type": "code",
   "execution_count": 34,
   "id": "1a11a451",
   "metadata": {},
   "outputs": [],
   "source": [
    "#Calcular la significancia estadística de las diferencias en la conversión entre los grupos con datos filtrados\n",
    "\n",
    "#Número de pedidos por usuario para cada grupo de prueba\n",
    "sampleAFiltered = pd.concat([ordersByUsersA[np.logical_not(ordersByUsersA['visitorId'].isin(abnormalUsers))]['orders'],pd.Series(0, index=np.arange(visits[visits['group']=='A']['visits'].sum() - len(ordersByUsersA['orders'])),name='orders')],axis=0)\n",
    "sampleBFiltered = pd.concat([ordersByUsersB[np.logical_not(ordersByUsersB['visitorId'].isin(abnormalUsers))]['orders'],pd.Series(0, index=np.arange(visits[visits['group']=='B']['visits'].sum() - len(ordersByUsersB['orders'])),name='orders')],axis=0)"
   ]
  },
  {
   "cell_type": "code",
   "execution_count": 35,
   "id": "a0a5117b",
   "metadata": {},
   "outputs": [
    {
     "name": "stdout",
     "output_type": "stream",
     "text": [
      "0.010\n",
      "0.174\n"
     ]
    }
   ],
   "source": [
    "#Aplicar el criterio estadístico de Mann-Whitney a las muestras resultantes\n",
    "print(\"{0:.3f}\".format(stats.mannwhitneyu(sampleAFiltered, sampleBFiltered)[1]))\n",
    "print(\"{0:.3f}\".format(sampleBFiltered.mean()/sampleAFiltered.mean()-1))"
   ]
  },
  {
   "cell_type": "markdown",
   "id": "c490e6b0",
   "metadata": {},
   "source": [
    "Los resultados de conversión casi no cambiaron, pero ahora la diferencia entre los segmentos es del `17.4%` en lugar del `13.8%`. "
   ]
  },
  {
   "cell_type": "markdown",
   "id": "ed2acbd0",
   "metadata": {},
   "source": [
    "### Encontrar la significancia estadística de la diferencia en el tamaño promedio de pedido entre los grupos utilizando los datos filtrados"
   ]
  },
  {
   "cell_type": "code",
   "execution_count": 36,
   "id": "202cdf43",
   "metadata": {},
   "outputs": [
    {
     "name": "stdout",
     "output_type": "stream",
     "text": [
      "0.845\n",
      "-0.020\n"
     ]
    }
   ],
   "source": [
    "#Mostrar el valor p calculado con la prueba U de Mann-Whitney\n",
    "print(\"{0:.3f}\".format(stats.mannwhitneyu(\n",
    "    orders[np.logical_and(\n",
    "        orders['group']=='A',  #Seleccionar datos en el grupo A\n",
    "        np.logical_not(orders['visitorId'].isin(abnormalUsers)))]['revenue'],  #Excluir los usuarios anormales y seleccionar los datos de ingreso para el grupo A\n",
    "    orders[np.logical_and(\n",
    "        orders['group']=='B',  #Selecciona datos en el grupo B\n",
    "        np.logical_not(orders['visitorId'].isin(abnormalUsers)))]['revenue']  #Excluir los usuarios anormales y seleccionar los datos de ingreso para el grupo B\n",
    ")[1]))  #Extraer el valor p de los resultados de la prueba\n",
    "\n",
    "#Mostrar la diferencia relativa en el ingreso medio entre los grupos B y A\n",
    "print(\"{0:.3f}\".format(\n",
    "    orders[np.logical_and(orders['group']=='B',  #Seleccionar datos en el grupo B\n",
    "           np.logical_not(orders['visitorId'].isin(abnormalUsers)))]['revenue'].mean() /  #Calcular el ingreso medio para el grupo B\n",
    "    orders[np.logical_and(orders['group']=='A',  #Seleccionar datos en el grupo A\n",
    "           np.logical_not(orders['visitorId'].isin(abnormalUsers)))]['revenue'].mean() - 1))  #Calcular el ingreso medio para el grupo A y mostrar la diferencia relativa          "
   ]
  },
  {
   "cell_type": "markdown",
   "id": "0493ac86",
   "metadata": {},
   "source": [
    "El `valor p` aumentó pero ahora la diferencia entre los segmentos es del `2%` en lugar del `25.2%`. Con perdidas el en `grupo B`"
   ]
  },
  {
   "cell_type": "markdown",
   "id": "6c5779d7",
   "metadata": {},
   "source": [
    "### Tomar una decisión basada en los resultados de la prueba"
   ]
  },
  {
   "cell_type": "markdown",
   "id": "45637358",
   "metadata": {},
   "source": [
    "`Conclusiones`\n",
    "- Entre los datos sin procesar y los filtrados, se evidenció un ligero incremento (`3.6%`) para la conversión entre los grupos.\n",
    "- Entre los datos sin procesar y los filtrados,  se evidenció una disminución del  `27.2%` en el tamaño promedio de los pedidos entre los grupos.\n",
    "- Si bien para la conversión entre los grupos, el `grupo B` mostró mejores resultados que el `grupo A`, el tamaño promedio de los pedidos entre los grupos evidenció una perdida del `%2` en el `grupo B`.\n",
    "\n",
    "`Decisión`\n",
    "- Continuar la prueba para ver si en las próximas semanas alguno de los dos grupos se posiciona como líder. "
   ]
  },
  {
   "cell_type": "code",
   "execution_count": null,
   "id": "b05b0660",
   "metadata": {},
   "outputs": [],
   "source": []
  }
 ],
 "metadata": {
  "ExecuteTimeLog": [
   {
    "duration": 2488,
    "start_time": "2024-10-01T23:51:53.180Z"
   },
   {
    "duration": 19,
    "start_time": "2024-10-01T23:52:00.681Z"
   },
   {
    "duration": 9,
    "start_time": "2024-10-01T23:52:18.911Z"
   },
   {
    "duration": 9,
    "start_time": "2024-10-01T23:52:25.593Z"
   },
   {
    "duration": 7,
    "start_time": "2024-10-01T23:52:51.663Z"
   },
   {
    "duration": 15,
    "start_time": "2024-10-01T23:52:58.122Z"
   },
   {
    "duration": 9,
    "start_time": "2024-10-01T23:53:17.385Z"
   },
   {
    "duration": 6,
    "start_time": "2024-10-01T23:53:22.715Z"
   },
   {
    "duration": 6,
    "start_time": "2024-10-01T23:53:27.501Z"
   },
   {
    "duration": 7,
    "start_time": "2024-10-01T23:53:42.854Z"
   },
   {
    "duration": 8,
    "start_time": "2024-10-01T23:53:49.165Z"
   },
   {
    "duration": 3,
    "start_time": "2024-10-01T23:54:04.158Z"
   },
   {
    "duration": 4,
    "start_time": "2024-10-01T23:54:09.140Z"
   },
   {
    "duration": 7,
    "start_time": "2024-10-01T23:54:14.893Z"
   },
   {
    "duration": 16,
    "start_time": "2024-10-01T23:54:28.838Z"
   },
   {
    "duration": 9,
    "start_time": "2024-10-01T23:54:45.045Z"
   },
   {
    "duration": 139,
    "start_time": "2024-10-01T23:55:19.077Z"
   },
   {
    "duration": 83,
    "start_time": "2024-10-01T23:55:25.258Z"
   },
   {
    "duration": 12,
    "start_time": "2024-10-01T23:55:31.090Z"
   },
   {
    "duration": 152,
    "start_time": "2024-10-01T23:55:47.122Z"
   },
   {
    "duration": 144,
    "start_time": "2024-10-01T23:56:15.589Z"
   },
   {
    "duration": 279,
    "start_time": "2024-10-01T23:56:46.798Z"
   },
   {
    "duration": 174,
    "start_time": "2024-10-01T23:57:10.809Z"
   },
   {
    "duration": 12,
    "start_time": "2024-10-01T23:57:34.820Z"
   },
   {
    "duration": 4,
    "start_time": "2024-10-01T23:58:03.253Z"
   },
   {
    "duration": 109,
    "start_time": "2024-10-01T23:58:25.111Z"
   },
   {
    "duration": 4,
    "start_time": "2024-10-01T23:58:47.888Z"
   },
   {
    "duration": 10,
    "start_time": "2024-10-01T23:59:05.448Z"
   },
   {
    "duration": 6,
    "start_time": "2024-10-01T23:59:10.559Z"
   },
   {
    "duration": 16,
    "start_time": "2024-10-01T23:59:15.981Z"
   },
   {
    "duration": 9,
    "start_time": "2024-10-01T23:59:39.984Z"
   },
   {
    "duration": 5,
    "start_time": "2024-10-01T23:59:46.171Z"
   },
   {
    "duration": 8,
    "start_time": "2024-10-02T00:00:37.648Z"
   },
   {
    "duration": 8,
    "start_time": "2024-10-02T00:00:58.505Z"
   },
   {
    "duration": 18,
    "start_time": "2024-10-02T00:01:03.491Z"
   },
   {
    "duration": 11,
    "start_time": "2024-10-02T00:01:26.145Z"
   }
  ],
  "kernelspec": {
   "display_name": "Python 3 (ipykernel)",
   "language": "python",
   "name": "python3"
  },
  "language_info": {
   "codemirror_mode": {
    "name": "ipython",
    "version": 3
   },
   "file_extension": ".py",
   "mimetype": "text/x-python",
   "name": "python",
   "nbconvert_exporter": "python",
   "pygments_lexer": "ipython3",
   "version": "3.9.19"
  },
  "toc": {
   "base_numbering": 1,
   "nav_menu": {},
   "number_sections": true,
   "sideBar": true,
   "skip_h1_title": true,
   "title_cell": "Table of Contents",
   "title_sidebar": "Contents",
   "toc_cell": false,
   "toc_position": {},
   "toc_section_display": true,
   "toc_window_display": false
  }
 },
 "nbformat": 4,
 "nbformat_minor": 5
}
